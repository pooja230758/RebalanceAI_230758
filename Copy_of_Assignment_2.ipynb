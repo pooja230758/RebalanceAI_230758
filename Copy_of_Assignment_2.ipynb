{
  "nbformat": 4,
  "nbformat_minor": 0,
  "metadata": {
    "colab": {
      "provenance": []
    },
    "kernelspec": {
      "name": "python3",
      "display_name": "Python 3"
    },
    "language_info": {
      "name": "python"
    }
  },
  "cells": [
    {
      "cell_type": "markdown",
      "source": [
        "#  Assignment-2 : Neural Network from Scratch -\n",
        "# In this assignment, you will implement a simple 3-layer neural network from scratch using only NumPy.\n",
        "# The neural network will be trained to classify points based on a small synthetic dataset.\n",
        "# You need to fill in the blanks marked with `# TODO`.\n",
        "# Please Refrain from Using CHAT-GPT :)"
      ],
      "metadata": {
        "id": "k4AJ2pXLwSBZ"
      }
    },
    {
      "cell_type": "code",
      "source": [],
      "metadata": {
        "id": "NuYUygZF5yhZ"
      },
      "execution_count": null,
      "outputs": []
    },
    {
      "cell_type": "code",
      "execution_count": null,
      "metadata": {
        "colab": {
          "base_uri": "https://localhost:8080/"
        },
        "id": "q_DQfEM5vCo8",
        "outputId": "12bff7b4-b8f7-4b57-ef0e-e154ffaaec86"
      },
      "outputs": [
        {
          "output_type": "stream",
          "name": "stdout",
          "text": [
            "Epoch 0 Loss: 0.7628\n",
            "Epoch 1000 Loss: 0.6836\n",
            "Epoch 2000 Loss: 0.6138\n",
            "Epoch 3000 Loss: 0.4614\n",
            "Epoch 4000 Loss: 0.2135\n",
            "Epoch 5000 Loss: 0.0933\n",
            "Epoch 6000 Loss: 0.0522\n",
            "Epoch 7000 Loss: 0.0342\n",
            "Epoch 8000 Loss: 0.0245\n",
            "Epoch 9000 Loss: 0.0186\n",
            "Predictions:\\n [[0]\n",
            " [1]\n",
            " [1]\n",
            " [0]]\n"
          ]
        }
      ],
      "source": [
        "\n",
        "\n",
        "# Import required libraries\n",
        "import numpy as np\n",
        "np.random.seed(42)\n",
        "\n",
        "# 1. Generate a Simple Dataset\n",
        "# Synthetic dataset (X: 2 features, Y: binary label)\n",
        "X = np.array([[0,0], [0,1], [1,0], [1,1]])\n",
        "Y = np.array([[0], [1], [1], [0]])  # XOR pattern\n",
        "\n",
        "# 2. Activation Function\n",
        "def sigmoid(z):\n",
        "    # TODO: Implement the sigmoid function\n",
        "    a=1/(1+np.exp(-z))\n",
        "    return a\n",
        "\n",
        "\n",
        "\n",
        "def sigmoid_derivative(a):\n",
        "    # TODO: Implement the derivative of sigmoid\n",
        "    b=a*(1-a)\n",
        "    return b\n",
        "\n",
        "\n",
        "# 3. Initialize Parameters\n",
        "# Layer sizes: 2 -> 4 -> 1\n",
        "input_size = 2\n",
        "hidden_size = 4\n",
        "output_size = 1\n",
        "\n",
        "# Weights and biases\n",
        "W1 = np.random.randn(input_size, hidden_size)\n",
        "b1 = np.zeros((1, hidden_size))\n",
        "W2 = np.random.randn(hidden_size, output_size)\n",
        "b2 = np.zeros((1, output_size))\n",
        "\n",
        "# 4. Training the Network\n",
        "learning_rate = 0.1\n",
        "epochs = 10000\n",
        "\n",
        "for epoch in range(epochs):\n",
        "    # ---- Forward pass ----\n",
        "    z1 = np.dot(X, W1) + b1\n",
        "    a1 = sigmoid(z1)\n",
        "    z2 = np.dot(a1, W2) + b2\n",
        "    a2 = sigmoid(z2)\n",
        "    #TODO: Complete the Forward Propagation\n",
        "\n",
        "\n",
        "    # ---- Compute Loss ----\n",
        "    loss = -np.mean(Y*np.log(a2) + (1 - Y) * np.log(1 - a2))  # Binary cross-entropy (FILL THIS KEEP IN MIND THE NAME OF PARAMETERS/VARIABLES)\n",
        "\n",
        "    if epoch % 1000 == 0:\n",
        "        print(f\"Epoch {epoch} Loss: {loss:.4f}\")\n",
        "\n",
        "    # ---- Backward pass ----\n",
        "    dz2 = a2 - Y\n",
        "    #TODO\n",
        "    #similarly calculate the gradients for other parameters and complete this\n",
        "    d2 = dz2 * sigmoid_derivative(a2)\n",
        "    d1 = np.dot(d2, w2.T) * sigmoid_derivative(a1)\n",
        "\n",
        "    # ---- Update weights ----\n",
        "    W2 -= learning_rate * dW2\n",
        "    #Like above write for other parameters\n",
        "    W1-=learning_rate*dW1\n",
        "    b2 -= learning_rate * db2\n",
        "    b1 -= learning_rate * db1\n",
        "\n",
        "# 5. Predictions\n",
        "def predict(X):\n",
        "    z1 = np.dot(X, W1) + b1\n",
        "    a1 = sigmoid(z1)\n",
        "    z2 = np.dot(a1, W2) + b2\n",
        "    a2 = sigmoid(z2)\n",
        "    return (a2 > 0.5).astype(int)\n",
        "\n",
        "predictions = predict(X)\n",
        "print(\"Predictions:\\\\n\", predictions)\n"
      ]
    },
    {
      "cell_type": "code",
      "source": [],
      "metadata": {
        "id": "djiJ7ihpF9nm"
      },
      "execution_count": null,
      "outputs": []
    }
  ]
}